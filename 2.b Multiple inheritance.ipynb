{
 "cells": [
  {
   "cell_type": "code",
   "execution_count": 7,
   "id": "bba5d5af",
   "metadata": {},
   "outputs": [],
   "source": [
    "class add:\n",
    "    def __init__(self, a,b):\n",
    "        self.a=a\n",
    "        self.b=b        \n",
    "    def f_add(self):\n",
    "        return self.a+self.b"
   ]
  },
  {
   "cell_type": "code",
   "execution_count": 8,
   "id": "7134fccf",
   "metadata": {},
   "outputs": [],
   "source": [
    "class mul:\n",
    "    def __init__(self, a,b):\n",
    "        self.a=a\n",
    "        self.b=b\n",
    "    def f_mul(self):\n",
    "        return self.a*self.b"
   ]
  },
  {
   "cell_type": "code",
   "execution_count": 9,
   "id": "56a7fecc",
   "metadata": {},
   "outputs": [],
   "source": [
    "# inheriting mul class\n",
    "class div(mul):\n",
    "    def __init__(self, a,b):\n",
    "        self.a=a\n",
    "        self.b=b\n",
    "    def f_div(self):\n",
    "        return self.a/self.b"
   ]
  },
  {
   "cell_type": "code",
   "execution_count": 10,
   "id": "db43513f",
   "metadata": {},
   "outputs": [],
   "source": [
    "# inheriting add class as well as div class(inherited mul class).\n",
    "class calc(add,div):\n",
    "    def __init__(self, a,b):\n",
    "        self.a=a\n",
    "        self.b=b\n",
    "    \n",
    "    def f_sub(self):\n",
    "        return self.a-self.b"
   ]
  },
  {
   "cell_type": "code",
   "execution_count": 14,
   "id": "e25a881d",
   "metadata": {},
   "outputs": [
    {
     "name": "stdout",
     "output_type": "stream",
     "text": [
      "16\n",
      "8\n",
      "0\n",
      "1.0\n"
     ]
    }
   ],
   "source": [
    "print(f\"{calc(4,4).f_mul() }\")\n",
    "print(f\"{calc(4,4).f_add() }\")\n",
    "print(f\"{calc(4,4).f_sub() }\")\n",
    "print(f\"{calc(4,4).f_div()}\")"
   ]
  },
  {
   "cell_type": "code",
   "execution_count": null,
   "id": "7e63e682",
   "metadata": {},
   "outputs": [],
   "source": []
  }
 ],
 "metadata": {
  "kernelspec": {
   "display_name": "Python 3",
   "language": "python",
   "name": "python3"
  },
  "language_info": {
   "codemirror_mode": {
    "name": "ipython",
    "version": 3
   },
   "file_extension": ".py",
   "mimetype": "text/x-python",
   "name": "python",
   "nbconvert_exporter": "python",
   "pygments_lexer": "ipython3",
   "version": "3.7.4"
  }
 },
 "nbformat": 4,
 "nbformat_minor": 5
}
