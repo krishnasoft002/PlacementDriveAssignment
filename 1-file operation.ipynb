{
 "cells": [
  {
   "cell_type": "code",
   "execution_count": 1,
   "id": "c8cc4d0e",
   "metadata": {},
   "outputs": [
    {
     "name": "stdout",
     "output_type": "stream",
     "text": [
      "******Data before replacement******\n",
      "This is a placement assignment\n",
      "******Data After replacement*******\n",
      "This is a screening assignment\n"
     ]
    }
   ],
   "source": [
    "file_name=\"test.txt\" #this is the file name\n",
    "text=\"This is a placement assignment\"         # the text to write\n",
    "\n",
    "#writing data to file\n",
    "with open (file_name,'w') as f:\n",
    "    f.write(text)\n",
    "    \n",
    "# reading the text data\n",
    "with open (file_name,'r') as f:\n",
    "    data=f.readline()\n",
    "\n",
    "print(f\"{'Data before replacement':*^35}\")\n",
    "print(data)\n",
    "print(f\"{'Data After replacement':*^35}\")\n",
    "data=data.replace('placement', 'screening',)\n",
    "print(f\"{data}\")\n",
    "#writing data after replacing placement word to file\n",
    "with open (file_name,'w') as f:\n",
    "    f.write(data)"
   ]
  }
 ],
 "metadata": {
  "kernelspec": {
   "display_name": "Python 3",
   "language": "python",
   "name": "python3"
  },
  "language_info": {
   "codemirror_mode": {
    "name": "ipython",
    "version": 3
   },
   "file_extension": ".py",
   "mimetype": "text/x-python",
   "name": "python",
   "nbconvert_exporter": "python",
   "pygments_lexer": "ipython3",
   "version": "3.7.4"
  }
 },
 "nbformat": 4,
 "nbformat_minor": 5
}
