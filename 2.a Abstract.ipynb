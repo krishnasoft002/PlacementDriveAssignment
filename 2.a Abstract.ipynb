{
 "cells": [
  {
   "cell_type": "code",
   "execution_count": 2,
   "id": "c112bf4f",
   "metadata": {},
   "outputs": [
    {
     "data": {
      "text/plain": [
       "12"
      ]
     },
     "execution_count": 2,
     "metadata": {},
     "output_type": "execute_result"
    }
   ],
   "source": [
    "from abc import ABC, abstractmethod\n",
    "\n",
    "\n",
    "class shape(ABC):\n",
    "    @abstractmethod\n",
    "    def area():\n",
    "        print('inside area')\n",
    "        return 0\n",
    "    \n",
    "class rectangle(shape):\n",
    "    def __init__(self, a, b):\n",
    "        self.a=a\n",
    "        self.b=b\n",
    "    \n",
    "    def area(self):\n",
    "        return self.a*self.b\n",
    "    \n",
    "\n",
    "    \n",
    "sha1=rectangle(2,6)\n",
    "sha1.area()"
   ]
  },
  {
   "cell_type": "code",
   "execution_count": null,
   "id": "dc5eee1d",
   "metadata": {},
   "outputs": [],
   "source": []
  },
  {
   "cell_type": "code",
   "execution_count": null,
   "id": "c8a15252",
   "metadata": {},
   "outputs": [],
   "source": []
  }
 ],
 "metadata": {
  "kernelspec": {
   "display_name": "Python 3",
   "language": "python",
   "name": "python3"
  },
  "language_info": {
   "codemirror_mode": {
    "name": "ipython",
    "version": 3
   },
   "file_extension": ".py",
   "mimetype": "text/x-python",
   "name": "python",
   "nbconvert_exporter": "python",
   "pygments_lexer": "ipython3",
   "version": "3.7.4"
  }
 },
 "nbformat": 4,
 "nbformat_minor": 5
}
