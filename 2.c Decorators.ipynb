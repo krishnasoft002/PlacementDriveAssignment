{
 "cells": [
  {
   "cell_type": "markdown",
   "id": "5ffc2edb",
   "metadata": {},
   "source": [
    "# Decorator\n",
    "\n",
    "- Decorator can be used to pass a function in another function"
   ]
  },
  {
   "cell_type": "code",
   "execution_count": 1,
   "id": "bbfe0e74",
   "metadata": {},
   "outputs": [
    {
     "name": "stdout",
     "output_type": "stream",
     "text": [
      "2.0\n",
      "2.0\n"
     ]
    }
   ],
   "source": [
    "# program to divide, where the numerator wil be greater that denominator\n",
    "def div(a,b):\n",
    "    print(a/b)\n",
    "    \n",
    "    \n",
    "def func_sorter(func):\n",
    "    def sorter(a,b):\n",
    "        if a<b:\n",
    "            a,b=b,a\n",
    "        return func(a,b)\n",
    "    return sorter\n",
    "\n",
    "div1=func_sorter(div)\n",
    "\n",
    "div1(4,2)\n",
    "div1(2,4)"
   ]
  },
  {
   "cell_type": "code",
   "execution_count": 5,
   "id": "911ac99f",
   "metadata": {},
   "outputs": [
    {
     "name": "stdout",
     "output_type": "stream",
     "text": [
      "FullStack DS\n",
      "FULLSTACK DS\n"
     ]
    }
   ],
   "source": [
    "# program to convert string to uppercase\n",
    "def str_print(str1):\n",
    "    print(str1)\n",
    "\n",
    "def to_upper(func1):\n",
    "    def up(str2):\n",
    "\n",
    "        str2=str2.upper()\n",
    "        return func1(str2)\n",
    "    return up\n",
    "        \n",
    "upper1=to_upper(str_print)    \n",
    "text=\"FullStack DS\"\n",
    "print(text)\n",
    "upper1(text)\n"
   ]
  },
  {
   "cell_type": "code",
   "execution_count": 3,
   "id": "c2eaf1e3",
   "metadata": {},
   "outputs": [
    {
     "name": "stdout",
     "output_type": "stream",
     "text": [
      "FSDS2021\n"
     ]
    }
   ],
   "source": [
    "@to_upper\n",
    "def f_str(str1):\n",
    "    print(str1)\n",
    "f_str('fsds2021')"
   ]
  },
  {
   "cell_type": "code",
   "execution_count": null,
   "id": "188c39b5",
   "metadata": {},
   "outputs": [],
   "source": []
  }
 ],
 "metadata": {
  "kernelspec": {
   "display_name": "Python 3",
   "language": "python",
   "name": "python3"
  },
  "language_info": {
   "codemirror_mode": {
    "name": "ipython",
    "version": 3
   },
   "file_extension": ".py",
   "mimetype": "text/x-python",
   "name": "python",
   "nbconvert_exporter": "python",
   "pygments_lexer": "ipython3",
   "version": "3.7.4"
  }
 },
 "nbformat": 4,
 "nbformat_minor": 5
}
